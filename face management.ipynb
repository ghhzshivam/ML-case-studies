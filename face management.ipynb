{
 "cells": [
  {
   "cell_type": "markdown",
   "metadata": {},
   "source": [
    "# Face size checker"
   ]
  },
  {
   "cell_type": "code",
   "execution_count": 2,
   "metadata": {},
   "outputs": [],
   "source": [
    "import numpy as np\n",
    "import cv2\n",
    "import glob\n",
    "import os \n",
    "\n",
    "face_classifier = cv2.CascadeClassifier('Haarcascades/haarcascade_frontalface_default.xml')\n",
    "eye_classifier = cv2.CascadeClassifier('Haarcascades/haarcascade_eye.xml')"
   ]
  },
  {
   "cell_type": "code",
   "execution_count": 13,
   "metadata": {},
   "outputs": [
    {
     "name": "stdout",
     "output_type": "stream",
     "text": [
      "Enter the name of the folder : 42.015\n",
      "Total no of images :  15\n",
      "548.0\n",
      "520.5\n",
      "538.0\n",
      "552.0\n",
      "560.0\n",
      "561.5\n",
      "567.0\n",
      "544.5\n",
      "Serial no of selected images:  [3, 4, 6, 7, 8, 9, 13, 14]\n",
      "total No of selected images:  8\n"
     ]
    }
   ],
   "source": [
    "# 42.015\n",
    "file_path = str(input('Enter the name of the folder : '))\n",
    "fol = file_path.split('.')\n",
    "\n",
    "ext = ['png', 'jpg', 'gif', 'webp','jpeg']    # Add image formats here\n",
    "\n",
    "path = 'C:/Users/91931/Downloads/Aiyuga image program/'+file_path+'/Selected'\n",
    "os.mkdir(path)\n",
    "\n",
    "path_2 = 'C:/Users/91931/Downloads/Aiyuga image program/'+file_path+'/NotSelected'\n",
    "os.mkdir(path_2)\n",
    "\n",
    "files = []\n",
    "[files.extend(glob.glob(file_path + '/*.' + e)) for e in ext]\n",
    "\n",
    "images = [cv2.imread(file) for file in files]\n",
    "\n",
    "print('Total no of images : ',len(images))\n",
    "\n",
    "l = []\n",
    "a = 1\n",
    "b = 1\n",
    "for i in range(0,len(images)):\n",
    "    gray = cv2.cvtColor(images[i], cv2.COLOR_BGR2GRAY)\n",
    "    \n",
    "    faces = face_classifier.detectMultiScale(gray, 1.3, 5)\n",
    "\n",
    "    for (x,y,w,h) in faces:\n",
    "        \n",
    "        roi_gray = gray[y:y+h, x:x+w]\n",
    "        eyes =  eye_classifier.detectMultiScale(roi_gray)\n",
    "        for (ex,ey,ew,eh) in eyes:\n",
    "            height  = eh+h/2\n",
    "            if height>512:\n",
    "#                 cv2.imshow('log', images[i])\n",
    "                l.append(i+1)\n",
    "                print(height)\n",
    "                file = path+f'/{fol[0]}.00.0{a}.jpeg'\n",
    "                cv2.imwrite( file, images[i])\n",
    "                a = a+1\n",
    "                break\n",
    "            \n",
    "        file = path_2+f'/{fol[0]}.00.0{b}.jpeg'\n",
    "        cv2.imwrite( file, images[i])\n",
    "        b = b+1\n",
    "\n",
    "\n",
    "print('Serial no of selected images: ',l)\n",
    "print('total No of selected images: ',len(l))"
   ]
  },
  {
   "cell_type": "code",
   "execution_count": 7,
   "metadata": {},
   "outputs": [],
   "source": [
    "a = '42.015'\n",
    "b = a.split('.')"
   ]
  },
  {
   "cell_type": "code",
   "execution_count": 8,
   "metadata": {},
   "outputs": [
    {
     "data": {
      "text/plain": [
       "'015'"
      ]
     },
     "execution_count": 8,
     "metadata": {},
     "output_type": "execute_result"
    }
   ],
   "source": [
    "b[1]"
   ]
  },
  {
   "cell_type": "code",
   "execution_count": null,
   "metadata": {},
   "outputs": [],
   "source": []
  }
 ],
 "metadata": {
  "kernelspec": {
   "display_name": "Python 3 (ipykernel)",
   "language": "python",
   "name": "python3"
  },
  "language_info": {
   "codemirror_mode": {
    "name": "ipython",
    "version": 3
   },
   "file_extension": ".py",
   "mimetype": "text/x-python",
   "name": "python",
   "nbconvert_exporter": "python",
   "pygments_lexer": "ipython3",
   "version": "3.9.7"
  }
 },
 "nbformat": 4,
 "nbformat_minor": 4
}
