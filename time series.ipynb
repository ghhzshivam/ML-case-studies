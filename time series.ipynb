{
 "cells": [
  {
   "cell_type": "markdown",
   "id": "bb356283",
   "metadata": {},
   "source": [
    "Try arima\n",
    "serima\n",
    "autoarima \n",
    "auto sarima\n",
    "train + test model upload "
   ]
  },
  {
   "cell_type": "code",
   "execution_count": 25,
   "id": "3234e8a8",
   "metadata": {},
   "outputs": [],
   "source": [
    "import numpy as np\n",
    "import pandas as pd\n",
    "import matplotlib.pyplot as plt\n",
    "import matplotlib as mpl\n",
    "\n",
    "from statsmodels.tsa.stattools import adfuller\n",
    "from statsmodels.tsa.seasonal import seasonal_decompose\n",
    "\n",
    "from tqdm import tqdm\n",
    "# from utils.metrics import evaluate\n",
    "# warning supression\n",
    "import warnings\n",
    "warnings.filterwarnings(\"ignore\")\n",
    "\n",
    "\n",
    "# Models\n",
    "import pmdarima as pm\n",
    "from statsmodels.tsa.ar_model import AR\n",
    "from statsmodels.tsa.arima_model import ARIMA, ARMA\n",
    "from statsmodels.tsa.statespace.sarimax import SARIMAX\n",
    "\n",
    "\n",
    "# Extra setting for charts\n",
    "from pylab import rcParams\n",
    "plt.style.use('bmh')\n",
    "# seed = 44\n",
    "# np.random.seed(seed)\n",
    "# mpl.rcParams['axes.labelsize'] = 14\n",
    "# mpl.rcParams['xtick.labelsize'] = 12\n",
    "# mpl.rcParams['ytick.labelsize'] = 12\n",
    "# mpl.rcParams['text.color'] = 'k'"
   ]
  },
  {
   "cell_type": "code",
   "execution_count": 17,
   "id": "818305dc",
   "metadata": {},
   "outputs": [
    {
     "data": {
      "text/html": [
       "<div>\n",
       "<style scoped>\n",
       "    .dataframe tbody tr th:only-of-type {\n",
       "        vertical-align: middle;\n",
       "    }\n",
       "\n",
       "    .dataframe tbody tr th {\n",
       "        vertical-align: top;\n",
       "    }\n",
       "\n",
       "    .dataframe thead th {\n",
       "        text-align: right;\n",
       "    }\n",
       "</style>\n",
       "<table border=\"1\" class=\"dataframe\">\n",
       "  <thead>\n",
       "    <tr style=\"text-align: right;\">\n",
       "      <th></th>\n",
       "      <th>demand</th>\n",
       "    </tr>\n",
       "    <tr>\n",
       "      <th>date_hour</th>\n",
       "      <th></th>\n",
       "    </tr>\n",
       "  </thead>\n",
       "  <tbody>\n",
       "    <tr>\n",
       "      <th>2018-08-18 9</th>\n",
       "      <td>91</td>\n",
       "    </tr>\n",
       "    <tr>\n",
       "      <th>2018-08-18 10</th>\n",
       "      <td>21</td>\n",
       "    </tr>\n",
       "    <tr>\n",
       "      <th>2018-08-18 13</th>\n",
       "      <td>23</td>\n",
       "    </tr>\n",
       "    <tr>\n",
       "      <th>2018-08-18 14</th>\n",
       "      <td>104</td>\n",
       "    </tr>\n",
       "    <tr>\n",
       "      <th>2018-08-18 15</th>\n",
       "      <td>81</td>\n",
       "    </tr>\n",
       "    <tr>\n",
       "      <th>...</th>\n",
       "      <td>...</td>\n",
       "    </tr>\n",
       "    <tr>\n",
       "      <th>2021-02-28 19</th>\n",
       "      <td>95</td>\n",
       "    </tr>\n",
       "    <tr>\n",
       "      <th>2021-02-28 20</th>\n",
       "      <td>88</td>\n",
       "    </tr>\n",
       "    <tr>\n",
       "      <th>2021-02-28 21</th>\n",
       "      <td>39</td>\n",
       "    </tr>\n",
       "    <tr>\n",
       "      <th>2021-02-28 22</th>\n",
       "      <td>104</td>\n",
       "    </tr>\n",
       "    <tr>\n",
       "      <th>2021-02-28 23</th>\n",
       "      <td>85</td>\n",
       "    </tr>\n",
       "  </tbody>\n",
       "</table>\n",
       "<p>18247 rows × 1 columns</p>\n",
       "</div>"
      ],
      "text/plain": [
       "               demand\n",
       "date_hour            \n",
       "2018-08-18 9       91\n",
       "2018-08-18 10      21\n",
       "2018-08-18 13      23\n",
       "2018-08-18 14     104\n",
       "2018-08-18 15      81\n",
       "...               ...\n",
       "2021-02-28 19      95\n",
       "2021-02-28 20      88\n",
       "2021-02-28 21      39\n",
       "2021-02-28 22     104\n",
       "2021-02-28 23      85\n",
       "\n",
       "[18247 rows x 1 columns]"
      ]
     },
     "execution_count": 17,
     "metadata": {},
     "output_type": "execute_result"
    }
   ],
   "source": [
    "# Importing data for univariate time series analysis\n",
    "df =  pd.read_csv('train.csv', parse_dates =[['date', 'hour']])\n",
    "df.set_index('date_hour', inplace = True)\n",
    "df"
   ]
  },
  {
   "cell_type": "code",
   "execution_count": null,
   "id": "f712b9a1",
   "metadata": {},
   "outputs": [],
   "source": [
    "plt.figure(num=None, figsize=(30, 10), dpi=80, facecolor='w', edgecolor='k')\n",
    "plt.title('CAR Data', fontsize=30)\n",
    "\n",
    "plt.plot(df['demand'])"
   ]
  },
  {
   "cell_type": "code",
   "execution_count": 18,
   "id": "5dc0bb1b",
   "metadata": {},
   "outputs": [
    {
     "name": "stdout",
     "output_type": "stream",
     "text": [
      "ADF Statistic: -12.543617\n",
      "p-value: 0.000000\n",
      "Critical Values:\n",
      "\t1%: -3.431\n",
      "\t5%: -2.862\n",
      "\t10%: -2.567\n",
      "Reject Ho - Time Series is Stationary\n"
     ]
    }
   ],
   "source": [
    "#  Test for stationary series\n",
    "\n",
    "from statsmodels.tsa.stattools import adfuller\n",
    "X = df['demand'].values\n",
    "result = adfuller(X)\n",
    "print('ADF Statistic: %f' % result[0])\n",
    "print('p-value: %f' % result[1])\n",
    "print('Critical Values:')\n",
    "for key, value in result[4].items():\n",
    "    print('\\t%s: %.3f' % (key, value))\n",
    "\n",
    "if result[0] < result[4][\"5%\"]:\n",
    "    print (\"Reject Ho - Time Series is Stationary\")\n",
    "else:\n",
    "    print (\"Failed to Reject Ho - Time Series is Non-Stationary\")"
   ]
  },
  {
   "cell_type": "markdown",
   "id": "d7e8d862",
   "metadata": {},
   "source": [
    ">So our Series is stationary"
   ]
  },
  {
   "cell_type": "code",
   "execution_count": 5,
   "id": "e02a1688",
   "metadata": {
    "scrolled": true
   },
   "outputs": [
    {
     "ename": "NameError",
     "evalue": "name 'seasonal_decompose' is not defined",
     "output_type": "error",
     "traceback": [
      "\u001b[1;31m---------------------------------------------------------------------------\u001b[0m",
      "\u001b[1;31mNameError\u001b[0m                                 Traceback (most recent call last)",
      "\u001b[1;32m~\\AppData\\Local\\Temp/ipykernel_2748/270337381.py\u001b[0m in \u001b[0;36m<module>\u001b[1;34m\u001b[0m\n\u001b[1;32m----> 1\u001b[1;33m \u001b[0mdecompose\u001b[0m \u001b[1;33m=\u001b[0m \u001b[0mseasonal_decompose\u001b[0m\u001b[1;33m(\u001b[0m\u001b[0mdf\u001b[0m\u001b[1;33m,\u001b[0m \u001b[0mmodel\u001b[0m \u001b[1;33m=\u001b[0m \u001b[1;34m'multiplicative'\u001b[0m\u001b[1;33m,\u001b[0m \u001b[0mfreq\u001b[0m \u001b[1;33m=\u001b[0m \u001b[1;36m12\u001b[0m\u001b[1;33m)\u001b[0m\u001b[1;33m\u001b[0m\u001b[1;33m\u001b[0m\u001b[0m\n\u001b[0m\u001b[0;32m      2\u001b[0m \u001b[0mrcParams\u001b[0m\u001b[1;33m[\u001b[0m\u001b[1;34m'figure.figsize'\u001b[0m\u001b[1;33m]\u001b[0m \u001b[1;33m=\u001b[0m \u001b[1;36m10\u001b[0m\u001b[1;33m,\u001b[0m\u001b[1;36m5\u001b[0m\u001b[1;33m\u001b[0m\u001b[1;33m\u001b[0m\u001b[0m\n\u001b[0;32m      3\u001b[0m \u001b[0mdecompose\u001b[0m\u001b[1;33m.\u001b[0m\u001b[0mplot\u001b[0m\u001b[1;33m(\u001b[0m\u001b[1;33m)\u001b[0m\u001b[1;33m\u001b[0m\u001b[1;33m\u001b[0m\u001b[0m\n\u001b[0;32m      4\u001b[0m \u001b[1;31m# pyplot.f\u001b[0m\u001b[1;33m\u001b[0m\u001b[1;33m\u001b[0m\u001b[0m\n",
      "\u001b[1;31mNameError\u001b[0m: name 'seasonal_decompose' is not defined"
     ]
    }
   ],
   "source": [
    "decompose = seasonal_decompose(df, model = 'multiplicative', freq = 12)\n",
    "rcParams['figure.figsize'] = 10,5\n",
    "decompose.plot()\n",
    "# pyplot.f"
   ]
  },
  {
   "cell_type": "code",
   "execution_count": 6,
   "id": "634857d2",
   "metadata": {},
   "outputs": [],
   "source": [
    "# Train test split\n",
    "train = df[0:16000]\n",
    "test = df[16000:]"
   ]
  },
  {
   "cell_type": "code",
   "execution_count": 19,
   "id": "51dcae8e",
   "metadata": {},
   "outputs": [],
   "source": [
    "\n"
   ]
  },
  {
   "cell_type": "code",
   "execution_count": 20,
   "id": "633541d1",
   "metadata": {},
   "outputs": [
    {
     "data": {
      "text/html": [
       "<div>\n",
       "<style scoped>\n",
       "    .dataframe tbody tr th:only-of-type {\n",
       "        vertical-align: middle;\n",
       "    }\n",
       "\n",
       "    .dataframe tbody tr th {\n",
       "        vertical-align: top;\n",
       "    }\n",
       "\n",
       "    .dataframe thead th {\n",
       "        text-align: right;\n",
       "    }\n",
       "</style>\n",
       "<table border=\"1\" class=\"dataframe\">\n",
       "  <thead>\n",
       "    <tr style=\"text-align: right;\">\n",
       "      <th></th>\n",
       "      <th>demand</th>\n",
       "    </tr>\n",
       "    <tr>\n",
       "      <th>date_hour</th>\n",
       "      <th></th>\n",
       "    </tr>\n",
       "  </thead>\n",
       "  <tbody>\n",
       "    <tr>\n",
       "      <th>2020-10-19 20</th>\n",
       "      <td>17</td>\n",
       "    </tr>\n",
       "    <tr>\n",
       "      <th>2020-10-19 21</th>\n",
       "      <td>61</td>\n",
       "    </tr>\n",
       "    <tr>\n",
       "      <th>2020-10-19 22</th>\n",
       "      <td>39</td>\n",
       "    </tr>\n",
       "    <tr>\n",
       "      <th>2020-10-19 23</th>\n",
       "      <td>51</td>\n",
       "    </tr>\n",
       "    <tr>\n",
       "      <th>2020-10-20 0</th>\n",
       "      <td>36</td>\n",
       "    </tr>\n",
       "    <tr>\n",
       "      <th>...</th>\n",
       "      <td>...</td>\n",
       "    </tr>\n",
       "    <tr>\n",
       "      <th>2021-02-28 19</th>\n",
       "      <td>95</td>\n",
       "    </tr>\n",
       "    <tr>\n",
       "      <th>2021-02-28 20</th>\n",
       "      <td>88</td>\n",
       "    </tr>\n",
       "    <tr>\n",
       "      <th>2021-02-28 21</th>\n",
       "      <td>39</td>\n",
       "    </tr>\n",
       "    <tr>\n",
       "      <th>2021-02-28 22</th>\n",
       "      <td>104</td>\n",
       "    </tr>\n",
       "    <tr>\n",
       "      <th>2021-02-28 23</th>\n",
       "      <td>85</td>\n",
       "    </tr>\n",
       "  </tbody>\n",
       "</table>\n",
       "<p>2247 rows × 1 columns</p>\n",
       "</div>"
      ],
      "text/plain": [
       "               demand\n",
       "date_hour            \n",
       "2020-10-19 20      17\n",
       "2020-10-19 21      61\n",
       "2020-10-19 22      39\n",
       "2020-10-19 23      51\n",
       "2020-10-20 0       36\n",
       "...               ...\n",
       "2021-02-28 19      95\n",
       "2021-02-28 20      88\n",
       "2021-02-28 21      39\n",
       "2021-02-28 22     104\n",
       "2021-02-28 23      85\n",
       "\n",
       "[2247 rows x 1 columns]"
      ]
     },
     "execution_count": 20,
     "metadata": {},
     "output_type": "execute_result"
    }
   ],
   "source": []
  },
  {
   "cell_type": "markdown",
   "id": "1a330202",
   "metadata": {},
   "source": [
    "## Model training"
   ]
  },
  {
   "cell_type": "code",
   "execution_count": 22,
   "id": "a8b8e069",
   "metadata": {},
   "outputs": [],
   "source": [
    "resultsDict = []\n",
    "predictionsDict = []"
   ]
  },
  {
   "cell_type": "code",
   "execution_count": 21,
   "id": "eb1ab1a5",
   "metadata": {},
   "outputs": [
    {
     "name": "stdout",
     "output_type": "stream",
     "text": [
      "Performing stepwise search to minimize aic\n",
      " ARIMA(2,1,2)(0,0,0)[0] intercept   : AIC=159458.885, Time=32.48 sec\n",
      " ARIMA(0,1,0)(0,0,0)[0] intercept   : AIC=165855.680, Time=0.60 sec\n",
      " ARIMA(1,1,0)(0,0,0)[0] intercept   : AIC=162322.388, Time=1.24 sec\n",
      " ARIMA(0,1,1)(0,0,0)[0] intercept   : AIC=160787.398, Time=3.60 sec\n",
      " ARIMA(0,1,0)(0,0,0)[0]             : AIC=165853.680, Time=0.32 sec\n",
      " ARIMA(1,1,2)(0,0,0)[0] intercept   : AIC=160787.115, Time=7.21 sec\n",
      " ARIMA(2,1,1)(0,0,0)[0] intercept   : AIC=159591.824, Time=12.59 sec\n",
      " ARIMA(3,1,2)(0,0,0)[0] intercept   : AIC=159418.629, Time=30.62 sec\n",
      " ARIMA(3,1,1)(0,0,0)[0] intercept   : AIC=159417.555, Time=16.66 sec\n",
      " ARIMA(3,1,0)(0,0,0)[0] intercept   : AIC=160996.604, Time=1.93 sec\n",
      " ARIMA(4,1,1)(0,0,0)[0] intercept   : AIC=159418.010, Time=26.66 sec\n",
      " ARIMA(2,1,0)(0,0,0)[0] intercept   : AIC=161252.223, Time=1.28 sec\n",
      " ARIMA(4,1,0)(0,0,0)[0] intercept   : AIC=160904.304, Time=2.44 sec\n",
      " ARIMA(4,1,2)(0,0,0)[0] intercept   : AIC=159421.376, Time=23.32 sec\n",
      " ARIMA(3,1,1)(0,0,0)[0]             : AIC=159415.572, Time=9.48 sec\n",
      " ARIMA(2,1,1)(0,0,0)[0]             : AIC=159589.835, Time=5.79 sec\n",
      " ARIMA(3,1,0)(0,0,0)[0]             : AIC=160994.604, Time=1.18 sec\n",
      " ARIMA(4,1,1)(0,0,0)[0]             : AIC=159416.028, Time=14.75 sec\n",
      " ARIMA(3,1,2)(0,0,0)[0]             : AIC=159416.645, Time=18.81 sec\n",
      " ARIMA(2,1,0)(0,0,0)[0]             : AIC=161250.223, Time=0.86 sec\n",
      " ARIMA(2,1,2)(0,0,0)[0]             : AIC=159456.902, Time=12.54 sec\n",
      " ARIMA(4,1,0)(0,0,0)[0]             : AIC=160902.304, Time=1.56 sec\n",
      " ARIMA(4,1,2)(0,0,0)[0]             : AIC=159419.326, Time=12.97 sec\n",
      "\n",
      "Best model:  ARIMA(3,1,1)(0,0,0)[0]          \n",
      "Total fit time: 239.203 seconds\n"
     ]
    },
    {
     "data": {
      "text/plain": [
       "ARIMA(order=(3, 1, 1), scoring_args={}, suppress_warnings=True,\n",
       "      with_intercept=False)"
      ]
     },
     "execution_count": 21,
     "metadata": {},
     "output_type": "execute_result"
    }
   ],
   "source": [
    "autoModel = pm.auto_arima(train['demand'], trace=True,\n",
    "                          error_action='ignore', suppress_warnings=True, seasonal=False) \n",
    "autoModel.fit(train['demand'])"
   ]
  },
  {
   "cell_type": "code",
   "execution_count": null,
   "id": "61a7781b",
   "metadata": {},
   "outputs": [
    {
     "name": "stderr",
     "output_type": "stream",
     "text": [
      "  1%|█                                                                             | 30/2247 [07:41<9:04:16, 14.73s/it]"
     ]
    }
   ],
   "source": [
    "order = autoModel.order\n",
    "yhat = list()\n",
    "for t in tqdm(range(len(test['demand']))):\n",
    "    temp_train = df[:len(train)+t]\n",
    "    model = ARIMA(temp_train['demand'], order=(3,0,1))\n",
    "    model_fit = model.fit(disp=False)\n",
    "    predictions = model_fit.predict(\n",
    "        start=len(temp_train), end=len(temp_train), dynamic=False)\n",
    "    yhat = yhat + [predictions]\n",
    "\n",
    "yhat = pd.concat(yhat)\n",
    "# resultsDict['AutoARIMA {0}'.format(order)] = evaluate(\n",
    "#     df_test.pollution_today, yhat)\n",
    "predictionsDict['AutoARIMA {0}'.format(order)] = yhat.values"
   ]
  },
  {
   "cell_type": "code",
   "execution_count": 27,
   "id": "05401711",
   "metadata": {},
   "outputs": [],
   "source": [
    "# 3,1,1 order"
   ]
  },
  {
   "cell_type": "code",
   "execution_count": 3,
   "id": "1011b75f",
   "metadata": {},
   "outputs": [
    {
     "ename": "NameError",
     "evalue": "name 'plt' is not defined",
     "output_type": "error",
     "traceback": [
      "\u001b[1;31m---------------------------------------------------------------------------\u001b[0m",
      "\u001b[1;31mNameError\u001b[0m                                 Traceback (most recent call last)",
      "\u001b[1;32m~\\AppData\\Local\\Temp/ipykernel_2748/3646041023.py\u001b[0m in \u001b[0;36m<module>\u001b[1;34m\u001b[0m\n\u001b[1;32m----> 1\u001b[1;33m \u001b[0mplt\u001b[0m\u001b[1;33m.\u001b[0m\u001b[0mplot\u001b[0m\u001b[1;33m(\u001b[0m\u001b[0mdf_test\u001b[0m\u001b[1;33m.\u001b[0m\u001b[0mpollution_today\u001b[0m\u001b[1;33m.\u001b[0m\u001b[0mvalues\u001b[0m\u001b[1;33m,\u001b[0m \u001b[0mlabel\u001b[0m\u001b[1;33m=\u001b[0m\u001b[1;34m'Original'\u001b[0m\u001b[1;33m)\u001b[0m\u001b[1;33m\u001b[0m\u001b[1;33m\u001b[0m\u001b[0m\n\u001b[0m\u001b[0;32m      2\u001b[0m \u001b[0mplt\u001b[0m\u001b[1;33m.\u001b[0m\u001b[0mplot\u001b[0m\u001b[1;33m(\u001b[0m\u001b[0myhat\u001b[0m\u001b[1;33m.\u001b[0m\u001b[0mvalues\u001b[0m\u001b[1;33m,\u001b[0m \u001b[0mcolor\u001b[0m\u001b[1;33m=\u001b[0m\u001b[1;34m'red'\u001b[0m\u001b[1;33m,\u001b[0m \u001b[0mlabel\u001b[0m\u001b[1;33m=\u001b[0m\u001b[1;34m'AutoARIMA {0}'\u001b[0m\u001b[1;33m.\u001b[0m\u001b[0mformat\u001b[0m\u001b[1;33m(\u001b[0m\u001b[0morder\u001b[0m\u001b[1;33m)\u001b[0m\u001b[1;33m)\u001b[0m\u001b[1;33m\u001b[0m\u001b[1;33m\u001b[0m\u001b[0m\n\u001b[0;32m      3\u001b[0m \u001b[0mplt\u001b[0m\u001b[1;33m.\u001b[0m\u001b[0mlegend\u001b[0m\u001b[1;33m(\u001b[0m\u001b[1;33m)\u001b[0m\u001b[1;33m\u001b[0m\u001b[1;33m\u001b[0m\u001b[0m\n",
      "\u001b[1;31mNameError\u001b[0m: name 'plt' is not defined"
     ]
    }
   ],
   "source": [
    "plt.plot(df_test.pollution_today.values, label='Original')\n",
    "plt.plot(yhat.values, color='red', label='AutoARIMA {0}'.format(order))\n",
    "plt.legend()"
   ]
  },
  {
   "cell_type": "code",
   "execution_count": 14,
   "id": "bb7e6e58",
   "metadata": {},
   "outputs": [
    {
     "name": "stdout",
     "output_type": "stream",
     "text": [
      "Collecting pmdarima\n",
      "  Downloading pmdarima-1.8.5-cp39-cp39-win_amd64.whl (601 kB)\n",
      "Requirement already satisfied: Cython!=0.29.18,>=0.29 in c:\\programdata\\anaconda3\\lib\\site-packages (from pmdarima) (0.29.24)\n",
      "Requirement already satisfied: statsmodels!=0.12.0,>=0.11 in c:\\programdata\\anaconda3\\lib\\site-packages (from pmdarima) (0.12.2)\n",
      "Requirement already satisfied: numpy>=1.19.3 in c:\\programdata\\anaconda3\\lib\\site-packages (from pmdarima) (1.20.3)\n",
      "Requirement already satisfied: scikit-learn>=0.22 in c:\\programdata\\anaconda3\\lib\\site-packages (from pmdarima) (0.24.2)\n",
      "Requirement already satisfied: joblib>=0.11 in c:\\programdata\\anaconda3\\lib\\site-packages (from pmdarima) (1.1.0)\n",
      "Requirement already satisfied: urllib3 in c:\\programdata\\anaconda3\\lib\\site-packages (from pmdarima) (1.26.7)\n",
      "Requirement already satisfied: setuptools!=50.0.0,>=38.6.0 in c:\\programdata\\anaconda3\\lib\\site-packages (from pmdarima) (58.0.4)\n",
      "Requirement already satisfied: scipy>=1.3.2 in c:\\programdata\\anaconda3\\lib\\site-packages (from pmdarima) (1.7.1)\n",
      "Requirement already satisfied: pandas>=0.19 in c:\\programdata\\anaconda3\\lib\\site-packages (from pmdarima) (1.3.4)\n",
      "Requirement already satisfied: python-dateutil>=2.7.3 in c:\\programdata\\anaconda3\\lib\\site-packages (from pandas>=0.19->pmdarima) (2.8.2)\n",
      "Requirement already satisfied: pytz>=2017.3 in c:\\programdata\\anaconda3\\lib\\site-packages (from pandas>=0.19->pmdarima) (2021.3)\n",
      "Requirement already satisfied: six>=1.5 in c:\\programdata\\anaconda3\\lib\\site-packages (from python-dateutil>=2.7.3->pandas>=0.19->pmdarima) (1.16.0)\n",
      "Requirement already satisfied: threadpoolctl>=2.0.0 in c:\\programdata\\anaconda3\\lib\\site-packages (from scikit-learn>=0.22->pmdarima) (2.2.0)\n",
      "Requirement already satisfied: patsy>=0.5 in c:\\programdata\\anaconda3\\lib\\site-packages (from statsmodels!=0.12.0,>=0.11->pmdarima) (0.5.2)\n",
      "Installing collected packages: pmdarima\n",
      "Successfully installed pmdarima-1.8.5\n"
     ]
    }
   ],
   "source": [
    "!pip install pmdarima"
   ]
  },
  {
   "cell_type": "code",
   "execution_count": 24,
   "id": "7eb4f209",
   "metadata": {},
   "outputs": [],
   "source": []
  },
  {
   "cell_type": "code",
   "execution_count": null,
   "id": "eed2e3b8",
   "metadata": {},
   "outputs": [],
   "source": []
  }
 ],
 "metadata": {
  "kernelspec": {
   "display_name": "Python 3 (ipykernel)",
   "language": "python",
   "name": "python3"
  },
  "language_info": {
   "codemirror_mode": {
    "name": "ipython",
    "version": 3
   },
   "file_extension": ".py",
   "mimetype": "text/x-python",
   "name": "python",
   "nbconvert_exporter": "python",
   "pygments_lexer": "ipython3",
   "version": "3.9.7"
  }
 },
 "nbformat": 4,
 "nbformat_minor": 5
}
